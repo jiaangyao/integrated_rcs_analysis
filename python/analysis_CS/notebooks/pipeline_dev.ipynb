{
 "cells": [
  {
   "cell_type": "code",
   "execution_count": 1,
   "metadata": {},
   "outputs": [],
   "source": [
    "%load_ext autoreload\n",
    "%autoreload 2"
   ]
  },
  {
   "cell_type": "code",
   "execution_count": 2,
   "metadata": {},
   "outputs": [],
   "source": [
    "import polars as pl\n",
    "import duckdb\n",
    "import numpy as np\n",
    "import sys\n",
    "from scipy import signal\n",
    "import polars as pl\n",
    "import numpy as np\n",
    "from scipy import stats\n",
    "sys.path.append('../')\n",
    "from database_calls import get_device_as_pl_df, get_settings_for_pb_calcs\n",
    "from viz_funcs import plot_feature_distributions\n",
    "import pandas as pd\n",
    "\n",
    "sys.path.append('../..')\n",
    "from preproc.time_domain_transforms import epoch_df_by_timesegment"
   ]
  },
  {
   "cell_type": "markdown",
   "metadata": {},
   "source": [
    "# Import data"
   ]
  },
  {
   "cell_type": "code",
   "execution_count": 3,
   "metadata": {},
   "outputs": [],
   "source": [
    "# Connect to database\n",
    "DATABASE_PATH = '/media/shortterm_ssd/Clay/databases/duckdb/rcs-db.duckdb'\n",
    "con = duckdb.connect(database=DATABASE_PATH, read_only=True)"
   ]
  },
  {
   "cell_type": "markdown",
   "metadata": {},
   "source": [
    "# Feature Engineering"
   ]
  },
  {
   "cell_type": "markdown",
   "metadata": {},
   "source": [
    "## Spectral Feature Distribution Visualization"
   ]
  },
  {
   "cell_type": "code",
   "execution_count": 4,
   "metadata": {},
   "outputs": [],
   "source": [
    "# Todo: Epoch data\n",
    "# 2. convert to numpy array\n",
    "# sum along specific bands\n",
    "# Convert back to df \n",
    "# Visualize\n",
    "\n",
    "\n",
    "\n",
    "# Figure out how to integrate (2) into TSFlex\n",
    "# TODO: Integrate into TSFlex, and neural network training"
   ]
  },
  {
   "cell_type": "code",
   "execution_count": 15,
   "metadata": {},
   "outputs": [],
   "source": [
    "devs = ['02L', '02R', '03L', '03R', '07L', '07R', '09L', '09R', '16L', '16R']\n",
    "td_streams = ['TD_BG', 'TD_key2', 'TD_key3']\n",
    "band_ranges = {'Delta': [0.5, 4], 'Theta': [4,8], 'Alpha': [8, 12], 'Beta': [12, 30], 'Gamma': [30, 100]}\n"
   ]
  },
  {
   "cell_type": "code",
   "execution_count": null,
   "metadata": {},
   "outputs": [],
   "source": [
    "\n",
    "for dev in devs:\n",
    "    # Get and epoch time series\n",
    "    dev_df = get_device_as_pl_df(dev, db_con=con)\n",
    "    dev_df = epoch_df_by_timesegment(dev_df, interval='2s', period='2s', groupby_cols=['SessionIdentity', 'SleepStage'], align_with_PB_outputs=False)\n",
    "    \n",
    "\n",
    "    for td_stream in td_streams:\n",
    "        # Get PSD for each epoch (no averaging)\n",
    "        td = dev_df.select(td_stream).to_numpy().T\n",
    "        f, pxx = signal.welch(td, fs=500, nperseg=1000, noverlap=0, axis=-1)\n",
    "        pb_bands = {key: np.log(np.sum(pxx[:, np.where(\n",
    "                (f >= pb[0]) & (f < pb[1]+0.1) )[0] ], axis=-1))\n",
    "            for key, pb in band_ranges.items()}\n",
    "        \n",
    "        # Plot distributions\n",
    "        fig = plot_feature_distributions(pl.DataFrame(pb_bands | {'SleepStage': dev_df.select('SleepStage').to_numpy().squeeze()}).with_columns(\n",
    "            pl.col('SleepStage').map_dict({2:'N3', 3: 'N2', 4: 'N1', 5: 'REM', 6: 'Wake'}).cast(pl.Categorical) ),\n",
    "            partition_col='SleepStage', melt_cols=list(pb_bands.keys()), \n",
    "            value_name='Power',\n",
    "            color_ordering=['N3', 'N2', 'N1', 'REM', 'Wake'],\n",
    "            row_ordering=list(band_ranges.keys()).reverse()\n",
    "            )\n",
    "\n",
    "        fig.update_layout(title=f'{dev} - {td_stream}: Log Power Band Distributions by Sleep Stage')\n",
    "        fig.write_html(f'/media/longterm_hdd/Clay/Sleep_10day_with_autonomic/feature_engineering/powerband_distributions/RCS{dev}_{td_stream}_log_power_band_distributions_by_sleep_stage.html')"
   ]
  },
  {
   "cell_type": "markdown",
   "metadata": {},
   "source": [
    "## Catch 22 Feature Extraction"
   ]
  },
  {
   "cell_type": "code",
   "execution_count": 11,
   "metadata": {},
   "outputs": [],
   "source": [
    "import pycatch22 as catch22"
   ]
  },
  {
   "cell_type": "code",
   "execution_count": 12,
   "metadata": {},
   "outputs": [],
   "source": [
    "dev_df = get_device_as_pl_df('02L', db_con=con)"
   ]
  },
  {
   "cell_type": "code",
   "execution_count": 16,
   "metadata": {},
   "outputs": [],
   "source": [
    "\n",
    "def_df = dev_df.with_columns([\n",
    "    (pl.col(td_stream) - pl.col(td_stream).mean()) / pl.col(td_stream).std() for td_stream in td_streams\n",
    "])\n",
    "\n",
    "dev_df = epoch_df_by_timesegment(dev_df, interval='30s', period='30s', groupby_cols=['SessionIdentity', 'SleepStage'], vector_cols=['localTime'], align_with_PB_outputs=False)\n"
   ]
  },
  {
   "cell_type": "code",
   "execution_count": 17,
   "metadata": {},
   "outputs": [],
   "source": [
    "time_series = dev_df.select('TD_key2').to_numpy().T"
   ]
  },
  {
   "cell_type": "code",
   "execution_count": 18,
   "metadata": {},
   "outputs": [
    {
     "data": {
      "text/plain": [
       "(5721, 15000)"
      ]
     },
     "execution_count": 18,
     "metadata": {},
     "output_type": "execute_result"
    }
   ],
   "source": [
    "time_series.shape"
   ]
  },
  {
   "cell_type": "code",
   "execution_count": 19,
   "metadata": {},
   "outputs": [
    {
     "name": "stdout",
     "output_type": "stream",
     "text": [
      "0 / 5721 done\n",
      "100 / 5721 done\n",
      "200 / 5721 done\n",
      "300 / 5721 done\n",
      "400 / 5721 done\n",
      "500 / 5721 done\n",
      "600 / 5721 done\n",
      "700 / 5721 done\n",
      "800 / 5721 done\n",
      "900 / 5721 done\n",
      "1000 / 5721 done\n",
      "1100 / 5721 done\n",
      "1200 / 5721 done\n",
      "1300 / 5721 done\n",
      "1400 / 5721 done\n",
      "1500 / 5721 done\n",
      "1600 / 5721 done\n",
      "1700 / 5721 done\n",
      "1800 / 5721 done\n",
      "1900 / 5721 done\n",
      "2000 / 5721 done\n",
      "2100 / 5721 done\n",
      "2200 / 5721 done\n",
      "2300 / 5721 done\n",
      "2400 / 5721 done\n",
      "2500 / 5721 done\n",
      "2600 / 5721 done\n",
      "2700 / 5721 done\n",
      "2800 / 5721 done\n",
      "2900 / 5721 done\n",
      "3000 / 5721 done\n",
      "3100 / 5721 done\n",
      "3200 / 5721 done\n",
      "3300 / 5721 done\n",
      "3400 / 5721 done\n",
      "3500 / 5721 done\n",
      "3600 / 5721 done\n",
      "3700 / 5721 done\n",
      "3800 / 5721 done\n",
      "3900 / 5721 done\n",
      "4000 / 5721 done\n",
      "4100 / 5721 done\n",
      "4200 / 5721 done\n",
      "4300 / 5721 done\n",
      "4400 / 5721 done\n",
      "4500 / 5721 done\n",
      "4600 / 5721 done\n",
      "4700 / 5721 done\n",
      "4800 / 5721 done\n",
      "4900 / 5721 done\n",
      "5000 / 5721 done\n",
      "5100 / 5721 done\n",
      "5200 / 5721 done\n",
      "5300 / 5721 done\n",
      "5400 / 5721 done\n",
      "5500 / 5721 done\n",
      "5600 / 5721 done\n",
      "5700 / 5721 done\n"
     ]
    }
   ],
   "source": [
    "feats = []\n",
    "time_series_list = time_series.tolist()\n",
    "for i in range(len(time_series_list)):\n",
    "    feats.append(catch22.catch22_all(time_series_list[i])['values'])\n",
    "    if i % 100 == 0:\n",
    "        print(f'{i} / {len(time_series_list)} done')\n",
    "\n",
    "features = np.array(feats)\n"
   ]
  },
  {
   "cell_type": "code",
   "execution_count": 20,
   "metadata": {},
   "outputs": [],
   "source": [
    "fnames22 = catch22.catch22_all(time_series_list[i])['names']\n",
    "df = pd.DataFrame(features, columns=fnames22)"
   ]
  },
  {
   "cell_type": "code",
   "execution_count": 21,
   "metadata": {},
   "outputs": [],
   "source": [
    "df['SleepStage'] = dev_df.select('SleepStage').to_numpy().squeeze()\n",
    "data = df"
   ]
  },
  {
   "cell_type": "code",
   "execution_count": null,
   "metadata": {},
   "outputs": [
    {
     "data": {
      "text/plain": [
       "(5721, 23)"
      ]
     },
     "execution_count": 37,
     "metadata": {},
     "output_type": "execute_result"
    }
   ],
   "source": [
    "data.shape"
   ]
  },
  {
   "cell_type": "markdown",
   "metadata": {},
   "source": [
    "## Custom feature extraction"
   ]
  },
  {
   "cell_type": "code",
   "execution_count": 37,
   "metadata": {},
   "outputs": [],
   "source": [
    "import itertools\n",
    "from sklearn.linear_model import LinearRegression\n",
    "from collections import OrderedDict\n",
    "\n",
    "def custom_feature_extraction(vec: np.ndarray, sampling_frequency: int, window_size: int, additional_features: dict = {}):\n",
    "    \"\"\"Extracts custom features from a vector of time series data.\n",
    "\n",
    "    Args:\n",
    "        vec (np.array): Vector of time series data\n",
    "        sampling_frequency (int): Sampling frequency of the time series data\n",
    "        additional_features (dict, optional): Additional features to extract. Defaults to {}. Should be dict of {feature_name: feature_function}\n",
    "\n",
    "    Returns:\n",
    "        np.array: Vector of extracted features\n",
    "    \"\"\"\n",
    "    \n",
    "    features = OrderedDict()\n",
    "    \n",
    "    # Time domain features\n",
    "    features['mean'] = np.mean(vec)\n",
    "    features['std'] = np.std(vec)\n",
    "    features['min'] = np.min(vec)\n",
    "    features['max'] = np.max(vec)\n",
    "    features['median'] = np.median(vec)\n",
    "    features['samples_above'] = np.sum(vec > features['mean'] + features['std'])\n",
    "    features['samples_below'] = np.sum(vec < features['mean'] - features['std'])\n",
    "    \n",
    "    # Frequency domain features\n",
    "    f, pxx = np.log10(signal.welch(vec, fs=sampling_frequency, nperseg=window_size, noverlap=0, axis=-1))\n",
    "    band_ranges = {'Delta': [0.5, 4], 'Theta': [4,8], 'Alpha': [8, 12], 'Beta': [12, 30], 'Gamma': [30, 100]}\n",
    "    \n",
    "    # Get powerbands\n",
    "    features |= {key: np.sum(\n",
    "                        pxx[ np.where( (f >= pb[0]) & (f < pb[1]+0.1) )[0] ],\n",
    "                    axis=-1)\n",
    "                for key, pb in band_ranges.items()}\n",
    "    \n",
    "    # Get powerband ratios\n",
    "    features |= {f'{pb_combo[0]}/{pb_combo[1]}': features[pb_combo[0]] / features[pb_combo[1]] for pb_combo in itertools.combinations(band_ranges.keys(), 2)}\n",
    "    \n",
    "    # Slope of linear regression of PSD\n",
    "    model = LinearRegression().fit(np.arange(len(vec)).reshape(-1,1), vec)\n",
    "    features['slope'] = model.coef_[0]\n",
    "    \n",
    "    if additional_features:\n",
    "        features |= OrderedDict({feature_name: feature_function(vec) for feature_name, feature_function in additional_features.items()})\n",
    "    \n",
    "    return np.array(list(features.values()))\n",
    "    \n",
    "    "
   ]
  },
  {
   "cell_type": "code",
   "execution_count": 42,
   "metadata": {},
   "outputs": [],
   "source": [
    "def get_feature_names(additional_features: dict = {}):\n",
    "    band_ranges = {'Delta': [0.5, 4], 'Theta': [4,8], 'Alpha': [8, 12], 'Beta': [12, 30], 'Gamma': [30, 100]}\n",
    "    return ['mean', 'std', 'min', 'max', 'median', 'samples_above', 'samples_below'] + \\\n",
    "            list(band_ranges.keys()) + \\\n",
    "            [f'{pb_combo[0]}/{pb_combo[1]}' for pb_combo in itertools.combinations(band_ranges.keys(), 2)] + \\\n",
    "            ['slope'] + \\\n",
    "            list(additional_features.keys())"
   ]
  },
  {
   "cell_type": "code",
   "execution_count": 38,
   "metadata": {},
   "outputs": [],
   "source": [
    "feat_extract = np.vectorize(custom_feature_extraction, signature='(n),(),()->(m)')\n",
    "features = feat_extract(time_series, 500, 1000)\n",
    "data_custom = pd.DataFrame(features, columns=get_feature_names())\n",
    "data_custom = (data_custom - data_custom.mean()) / data_custom.std()\n",
    "data_custom['SleepStage'] =  dev_df.select('SleepStage').to_numpy().squeeze()"
   ]
  },
  {
   "cell_type": "code",
   "execution_count": 48,
   "metadata": {},
   "outputs": [
    {
     "data": {
      "text/plain": [
       "(5721, 24)"
      ]
     },
     "execution_count": 48,
     "metadata": {},
     "output_type": "execute_result"
    }
   ],
   "source": [
    "data_custom.shape"
   ]
  },
  {
   "cell_type": "markdown",
   "metadata": {},
   "source": [
    "## Full PSD vector as feature"
   ]
  },
  {
   "cell_type": "code",
   "execution_count": 51,
   "metadata": {},
   "outputs": [],
   "source": [
    "x = dev_df.select('TD_key3').to_numpy().T\n",
    "y = dev_df.select('TD_key2').to_numpy().T\n",
    "z = dev_df.select('TD_BG').to_numpy().T\n",
    "f, pxx = signal.welch(x, fs=500, nperseg=500, noverlap=250, axis=-1)\n",
    "f, pyy = signal.welch(y, fs=500, nperseg=500, noverlap=250, axis=-1)\n",
    "f, pzz = signal.welch(z, fs=500, nperseg=500, noverlap=250, axis=-1)\n",
    "pxy = np.mean(np.concatenate([pxx[:,:,np.newaxis], pyy[:,:,np.newaxis]], axis=-1), axis=-1)"
   ]
  },
  {
   "cell_type": "code",
   "execution_count": 53,
   "metadata": {},
   "outputs": [
    {
     "data": {
      "text/plain": [
       "(5721, 251)"
      ]
     },
     "execution_count": 53,
     "metadata": {},
     "output_type": "execute_result"
    }
   ],
   "source": []
  },
  {
   "cell_type": "markdown",
   "metadata": {},
   "source": [
    "## TSFresh Feature Extraction"
   ]
  },
  {
   "cell_type": "code",
   "execution_count": 4,
   "metadata": {},
   "outputs": [],
   "source": [
    "from tsfresh import extract_features\n"
   ]
  },
  {
   "cell_type": "code",
   "execution_count": 5,
   "metadata": {},
   "outputs": [
    {
     "data": {
      "application/vnd.jupyter.widget-view+json": {
       "model_id": "c5ae97199c14465db9343ef7f45430d1",
       "version_major": 2,
       "version_minor": 0
      },
      "text/plain": [
       "FloatProgress(value=0.0, layout=Layout(width='100%'), style=ProgressStyle(bar_color='black'))"
      ]
     },
     "metadata": {},
     "output_type": "display_data"
    }
   ],
   "source": [
    "\n",
    "dev_df = get_device_as_pl_df('02L', db_con=con)\n",
    "\n",
    "\n",
    "dev_df = epoch_df_by_timesegment(dev_df, interval='30s', period='30s', groupby_cols=['SessionIdentity', 'SleepStage'], vector_cols=['localTime'], align_with_PB_outputs=False)\n",
    "\n",
    "dev_df = dev_df.with_row_count(name='epoch_num').explode(['localTime_vec', 'TD_BG', 'TD_key2', 'TD_key3'])\n",
    "    \n"
   ]
  },
  {
   "cell_type": "code",
   "execution_count": 6,
   "metadata": {},
   "outputs": [
    {
     "data": {
      "text/plain": [
       "85815000"
      ]
     },
     "execution_count": 6,
     "metadata": {},
     "output_type": "execute_result"
    }
   ],
   "source": [
    "dev_df.height"
   ]
  },
  {
   "cell_type": "code",
   "execution_count": 7,
   "metadata": {},
   "outputs": [
    {
     "name": "stderr",
     "output_type": "stream",
     "text": [
      "Feature Extraction: 100%|██████████| 165/165 [25:34<00:00,  9.30s/it]  \n"
     ]
    }
   ],
   "source": [
    "\n",
    "time_series = dev_df.head(815000).select(['localTime_vec', 'epoch_num', 'TD_BG', 'TD_key2', 'TD_key3']).to_pandas()\n",
    "extracted_features = extract_features(time_series, column_id=\"epoch_num\", column_sort=\"localTime_vec\")  "
   ]
  },
  {
   "cell_type": "code",
   "execution_count": 10,
   "metadata": {},
   "outputs": [
    {
     "data": {
      "text/plain": [
       "(55, 2349)"
      ]
     },
     "execution_count": 10,
     "metadata": {},
     "output_type": "execute_result"
    }
   ],
   "source": [
    "extracted_features.shape"
   ]
  },
  {
   "cell_type": "code",
   "execution_count": null,
   "metadata": {},
   "outputs": [],
   "source": [
    "devs = ['02L', '02R', '03L', '03R', '07L', '07R', '09L', '09R', '16L', '16R']\n",
    "td_streams = ['TD_BG', 'TD_key2', 'TD_key3']\n",
    "band_ranges = {'Delta': [0.5, 4], 'Theta': [4,8], 'Alpha': [8, 12], 'Beta': [12, 30], 'Gamma': [30, 100]}\n",
    "\n",
    "for dev in devs:\n",
    "    # Get and epoch time series\n",
    "    dev_df = get_device_as_pl_df(dev, db_con=con)\n",
    "    dev_df = epoch_df_by_timesegment(dev_df, interval='2s', period='2s', groupby_cols=['SessionIdentity', 'SleepStage'], vector_cols=['localTime'], align_with_PB_outputs=False)\n",
    "    dev_df = dev_df.with_row_count().explode(['localTime_vec', 'TD_BG', 'TD_key2', 'TD_key3']).to_pandas(zero_copy_only=True)\n",
    "\n",
    "    extracted_features = extract_features(dev_df, column_id=\"row_nr\", column_sort=\"localTime_vec\")   "
   ]
  },
  {
   "cell_type": "markdown",
   "metadata": {},
   "source": [
    "# Model Training"
   ]
  },
  {
   "cell_type": "code",
   "execution_count": 23,
   "metadata": {},
   "outputs": [],
   "source": [
    "from pycaret.classification import *"
   ]
  },
  {
   "cell_type": "code",
   "execution_count": 54,
   "metadata": {},
   "outputs": [],
   "source": [
    "labels = dev_df.select('SleepStage').to_numpy().squeeze()"
   ]
  },
  {
   "cell_type": "code",
   "execution_count": 59,
   "metadata": {},
   "outputs": [
    {
     "name": "stdout",
     "output_type": "stream",
     "text": [
      "1__________________________________________________________\n"
     ]
    },
    {
     "data": {
      "text/html": [
       "<style type=\"text/css\">\n",
       "#T_046e4_row9_col1 {\n",
       "  background-color: lightgreen;\n",
       "}\n",
       "</style>\n",
       "<table id=\"T_046e4\">\n",
       "  <thead>\n",
       "    <tr>\n",
       "      <th class=\"blank level0\" >&nbsp;</th>\n",
       "      <th id=\"T_046e4_level0_col0\" class=\"col_heading level0 col0\" >Description</th>\n",
       "      <th id=\"T_046e4_level0_col1\" class=\"col_heading level0 col1\" >Value</th>\n",
       "    </tr>\n",
       "  </thead>\n",
       "  <tbody>\n",
       "    <tr>\n",
       "      <th id=\"T_046e4_level0_row0\" class=\"row_heading level0 row0\" >0</th>\n",
       "      <td id=\"T_046e4_row0_col0\" class=\"data row0 col0\" >Session id</td>\n",
       "      <td id=\"T_046e4_row0_col1\" class=\"data row0 col1\" >0</td>\n",
       "    </tr>\n",
       "    <tr>\n",
       "      <th id=\"T_046e4_level0_row1\" class=\"row_heading level0 row1\" >1</th>\n",
       "      <td id=\"T_046e4_row1_col0\" class=\"data row1 col0\" >Target</td>\n",
       "      <td id=\"T_046e4_row1_col1\" class=\"data row1 col1\" >SleepStage</td>\n",
       "    </tr>\n",
       "    <tr>\n",
       "      <th id=\"T_046e4_level0_row2\" class=\"row_heading level0 row2\" >2</th>\n",
       "      <td id=\"T_046e4_row2_col0\" class=\"data row2 col0\" >Target type</td>\n",
       "      <td id=\"T_046e4_row2_col1\" class=\"data row2 col1\" >Multiclass</td>\n",
       "    </tr>\n",
       "    <tr>\n",
       "      <th id=\"T_046e4_level0_row3\" class=\"row_heading level0 row3\" >3</th>\n",
       "      <td id=\"T_046e4_row3_col0\" class=\"data row3 col0\" >Target mapping</td>\n",
       "      <td id=\"T_046e4_row3_col1\" class=\"data row3 col1\" >2.0: 0, 3.0: 1, 4.0: 2, 5.0: 3, 6.0: 4</td>\n",
       "    </tr>\n",
       "    <tr>\n",
       "      <th id=\"T_046e4_level0_row4\" class=\"row_heading level0 row4\" >4</th>\n",
       "      <td id=\"T_046e4_row4_col0\" class=\"data row4 col0\" >Original data shape</td>\n",
       "      <td id=\"T_046e4_row4_col1\" class=\"data row4 col1\" >(5721, 252)</td>\n",
       "    </tr>\n",
       "    <tr>\n",
       "      <th id=\"T_046e4_level0_row5\" class=\"row_heading level0 row5\" >5</th>\n",
       "      <td id=\"T_046e4_row5_col0\" class=\"data row5 col0\" >Transformed data shape</td>\n",
       "      <td id=\"T_046e4_row5_col1\" class=\"data row5 col1\" >(5721, 252)</td>\n",
       "    </tr>\n",
       "    <tr>\n",
       "      <th id=\"T_046e4_level0_row6\" class=\"row_heading level0 row6\" >6</th>\n",
       "      <td id=\"T_046e4_row6_col0\" class=\"data row6 col0\" >Transformed train set shape</td>\n",
       "      <td id=\"T_046e4_row6_col1\" class=\"data row6 col1\" >(4004, 252)</td>\n",
       "    </tr>\n",
       "    <tr>\n",
       "      <th id=\"T_046e4_level0_row7\" class=\"row_heading level0 row7\" >7</th>\n",
       "      <td id=\"T_046e4_row7_col0\" class=\"data row7 col0\" >Transformed test set shape</td>\n",
       "      <td id=\"T_046e4_row7_col1\" class=\"data row7 col1\" >(1717, 252)</td>\n",
       "    </tr>\n",
       "    <tr>\n",
       "      <th id=\"T_046e4_level0_row8\" class=\"row_heading level0 row8\" >8</th>\n",
       "      <td id=\"T_046e4_row8_col0\" class=\"data row8 col0\" >Numeric features</td>\n",
       "      <td id=\"T_046e4_row8_col1\" class=\"data row8 col1\" >251</td>\n",
       "    </tr>\n",
       "    <tr>\n",
       "      <th id=\"T_046e4_level0_row9\" class=\"row_heading level0 row9\" >9</th>\n",
       "      <td id=\"T_046e4_row9_col0\" class=\"data row9 col0\" >Preprocess</td>\n",
       "      <td id=\"T_046e4_row9_col1\" class=\"data row9 col1\" >True</td>\n",
       "    </tr>\n",
       "    <tr>\n",
       "      <th id=\"T_046e4_level0_row10\" class=\"row_heading level0 row10\" >10</th>\n",
       "      <td id=\"T_046e4_row10_col0\" class=\"data row10 col0\" >Imputation type</td>\n",
       "      <td id=\"T_046e4_row10_col1\" class=\"data row10 col1\" >simple</td>\n",
       "    </tr>\n",
       "    <tr>\n",
       "      <th id=\"T_046e4_level0_row11\" class=\"row_heading level0 row11\" >11</th>\n",
       "      <td id=\"T_046e4_row11_col0\" class=\"data row11 col0\" >Numeric imputation</td>\n",
       "      <td id=\"T_046e4_row11_col1\" class=\"data row11 col1\" >mean</td>\n",
       "    </tr>\n",
       "    <tr>\n",
       "      <th id=\"T_046e4_level0_row12\" class=\"row_heading level0 row12\" >12</th>\n",
       "      <td id=\"T_046e4_row12_col0\" class=\"data row12 col0\" >Categorical imputation</td>\n",
       "      <td id=\"T_046e4_row12_col1\" class=\"data row12 col1\" >mode</td>\n",
       "    </tr>\n",
       "    <tr>\n",
       "      <th id=\"T_046e4_level0_row13\" class=\"row_heading level0 row13\" >13</th>\n",
       "      <td id=\"T_046e4_row13_col0\" class=\"data row13 col0\" >Fold Generator</td>\n",
       "      <td id=\"T_046e4_row13_col1\" class=\"data row13 col1\" >StratifiedKFold</td>\n",
       "    </tr>\n",
       "    <tr>\n",
       "      <th id=\"T_046e4_level0_row14\" class=\"row_heading level0 row14\" >14</th>\n",
       "      <td id=\"T_046e4_row14_col0\" class=\"data row14 col0\" >Fold Number</td>\n",
       "      <td id=\"T_046e4_row14_col1\" class=\"data row14 col1\" >10</td>\n",
       "    </tr>\n",
       "    <tr>\n",
       "      <th id=\"T_046e4_level0_row15\" class=\"row_heading level0 row15\" >15</th>\n",
       "      <td id=\"T_046e4_row15_col0\" class=\"data row15 col0\" >CPU Jobs</td>\n",
       "      <td id=\"T_046e4_row15_col1\" class=\"data row15 col1\" >-1</td>\n",
       "    </tr>\n",
       "    <tr>\n",
       "      <th id=\"T_046e4_level0_row16\" class=\"row_heading level0 row16\" >16</th>\n",
       "      <td id=\"T_046e4_row16_col0\" class=\"data row16 col0\" >Use GPU</td>\n",
       "      <td id=\"T_046e4_row16_col1\" class=\"data row16 col1\" >False</td>\n",
       "    </tr>\n",
       "    <tr>\n",
       "      <th id=\"T_046e4_level0_row17\" class=\"row_heading level0 row17\" >17</th>\n",
       "      <td id=\"T_046e4_row17_col0\" class=\"data row17 col0\" >Log Experiment</td>\n",
       "      <td id=\"T_046e4_row17_col1\" class=\"data row17 col1\" >False</td>\n",
       "    </tr>\n",
       "    <tr>\n",
       "      <th id=\"T_046e4_level0_row18\" class=\"row_heading level0 row18\" >18</th>\n",
       "      <td id=\"T_046e4_row18_col0\" class=\"data row18 col0\" >Experiment Name</td>\n",
       "      <td id=\"T_046e4_row18_col1\" class=\"data row18 col1\" >clf-default-name</td>\n",
       "    </tr>\n",
       "    <tr>\n",
       "      <th id=\"T_046e4_level0_row19\" class=\"row_heading level0 row19\" >19</th>\n",
       "      <td id=\"T_046e4_row19_col0\" class=\"data row19 col0\" >USI</td>\n",
       "      <td id=\"T_046e4_row19_col1\" class=\"data row19 col1\" >37d4</td>\n",
       "    </tr>\n",
       "  </tbody>\n",
       "</table>\n"
      ],
      "text/plain": [
       "<pandas.io.formats.style.Styler at 0x7f9682e7a950>"
      ]
     },
     "metadata": {},
     "output_type": "display_data"
    },
    {
     "data": {
      "text/html": [],
      "text/plain": [
       "<IPython.core.display.HTML object>"
      ]
     },
     "metadata": {},
     "output_type": "display_data"
    },
    {
     "data": {
      "text/html": [
       "<style type=\"text/css\">\n",
       "#T_8d586_row10_col0, #T_8d586_row10_col1, #T_8d586_row10_col2, #T_8d586_row10_col3, #T_8d586_row10_col4, #T_8d586_row10_col5, #T_8d586_row10_col6 {\n",
       "  background: yellow;\n",
       "}\n",
       "</style>\n",
       "<table id=\"T_8d586\">\n",
       "  <thead>\n",
       "    <tr>\n",
       "      <th class=\"blank level0\" >&nbsp;</th>\n",
       "      <th id=\"T_8d586_level0_col0\" class=\"col_heading level0 col0\" >Accuracy</th>\n",
       "      <th id=\"T_8d586_level0_col1\" class=\"col_heading level0 col1\" >AUC</th>\n",
       "      <th id=\"T_8d586_level0_col2\" class=\"col_heading level0 col2\" >Recall</th>\n",
       "      <th id=\"T_8d586_level0_col3\" class=\"col_heading level0 col3\" >Prec.</th>\n",
       "      <th id=\"T_8d586_level0_col4\" class=\"col_heading level0 col4\" >F1</th>\n",
       "      <th id=\"T_8d586_level0_col5\" class=\"col_heading level0 col5\" >Kappa</th>\n",
       "      <th id=\"T_8d586_level0_col6\" class=\"col_heading level0 col6\" >MCC</th>\n",
       "    </tr>\n",
       "    <tr>\n",
       "      <th class=\"index_name level0\" >Fold</th>\n",
       "      <th class=\"blank col0\" >&nbsp;</th>\n",
       "      <th class=\"blank col1\" >&nbsp;</th>\n",
       "      <th class=\"blank col2\" >&nbsp;</th>\n",
       "      <th class=\"blank col3\" >&nbsp;</th>\n",
       "      <th class=\"blank col4\" >&nbsp;</th>\n",
       "      <th class=\"blank col5\" >&nbsp;</th>\n",
       "      <th class=\"blank col6\" >&nbsp;</th>\n",
       "    </tr>\n",
       "  </thead>\n",
       "  <tbody>\n",
       "    <tr>\n",
       "      <th id=\"T_8d586_level0_row0\" class=\"row_heading level0 row0\" >0</th>\n",
       "      <td id=\"T_8d586_row0_col0\" class=\"data row0 col0\" >0.7930</td>\n",
       "      <td id=\"T_8d586_row0_col1\" class=\"data row0 col1\" >0.9341</td>\n",
       "      <td id=\"T_8d586_row0_col2\" class=\"data row0 col2\" >0.7930</td>\n",
       "      <td id=\"T_8d586_row0_col3\" class=\"data row0 col3\" >0.7696</td>\n",
       "      <td id=\"T_8d586_row0_col4\" class=\"data row0 col4\" >0.7756</td>\n",
       "      <td id=\"T_8d586_row0_col5\" class=\"data row0 col5\" >0.6922</td>\n",
       "      <td id=\"T_8d586_row0_col6\" class=\"data row0 col6\" >0.6969</td>\n",
       "    </tr>\n",
       "    <tr>\n",
       "      <th id=\"T_8d586_level0_row1\" class=\"row_heading level0 row1\" >1</th>\n",
       "      <td id=\"T_8d586_row1_col0\" class=\"data row1 col0\" >0.7830</td>\n",
       "      <td id=\"T_8d586_row1_col1\" class=\"data row1 col1\" >0.9375</td>\n",
       "      <td id=\"T_8d586_row1_col2\" class=\"data row1 col2\" >0.7830</td>\n",
       "      <td id=\"T_8d586_row1_col3\" class=\"data row1 col3\" >0.7621</td>\n",
       "      <td id=\"T_8d586_row1_col4\" class=\"data row1 col4\" >0.7645</td>\n",
       "      <td id=\"T_8d586_row1_col5\" class=\"data row1 col5\" >0.6763</td>\n",
       "      <td id=\"T_8d586_row1_col6\" class=\"data row1 col6\" >0.6818</td>\n",
       "    </tr>\n",
       "    <tr>\n",
       "      <th id=\"T_8d586_level0_row2\" class=\"row_heading level0 row2\" >2</th>\n",
       "      <td id=\"T_8d586_row2_col0\" class=\"data row2 col0\" >0.7880</td>\n",
       "      <td id=\"T_8d586_row2_col1\" class=\"data row2 col1\" >0.9488</td>\n",
       "      <td id=\"T_8d586_row2_col2\" class=\"data row2 col2\" >0.7880</td>\n",
       "      <td id=\"T_8d586_row2_col3\" class=\"data row2 col3\" >0.7705</td>\n",
       "      <td id=\"T_8d586_row2_col4\" class=\"data row2 col4\" >0.7706</td>\n",
       "      <td id=\"T_8d586_row2_col5\" class=\"data row2 col5\" >0.6837</td>\n",
       "      <td id=\"T_8d586_row2_col6\" class=\"data row2 col6\" >0.6897</td>\n",
       "    </tr>\n",
       "    <tr>\n",
       "      <th id=\"T_8d586_level0_row3\" class=\"row_heading level0 row3\" >3</th>\n",
       "      <td id=\"T_8d586_row3_col0\" class=\"data row3 col0\" >0.7855</td>\n",
       "      <td id=\"T_8d586_row3_col1\" class=\"data row3 col1\" >0.9511</td>\n",
       "      <td id=\"T_8d586_row3_col2\" class=\"data row3 col2\" >0.7855</td>\n",
       "      <td id=\"T_8d586_row3_col3\" class=\"data row3 col3\" >0.7765</td>\n",
       "      <td id=\"T_8d586_row3_col4\" class=\"data row3 col4\" >0.7676</td>\n",
       "      <td id=\"T_8d586_row3_col5\" class=\"data row3 col5\" >0.6774</td>\n",
       "      <td id=\"T_8d586_row3_col6\" class=\"data row3 col6\" >0.6859</td>\n",
       "    </tr>\n",
       "    <tr>\n",
       "      <th id=\"T_8d586_level0_row4\" class=\"row_heading level0 row4\" >4</th>\n",
       "      <td id=\"T_8d586_row4_col0\" class=\"data row4 col0\" >0.8000</td>\n",
       "      <td id=\"T_8d586_row4_col1\" class=\"data row4 col1\" >0.9418</td>\n",
       "      <td id=\"T_8d586_row4_col2\" class=\"data row4 col2\" >0.8000</td>\n",
       "      <td id=\"T_8d586_row4_col3\" class=\"data row4 col3\" >0.7894</td>\n",
       "      <td id=\"T_8d586_row4_col4\" class=\"data row4 col4\" >0.7891</td>\n",
       "      <td id=\"T_8d586_row4_col5\" class=\"data row4 col5\" >0.7046</td>\n",
       "      <td id=\"T_8d586_row4_col6\" class=\"data row4 col6\" >0.7081</td>\n",
       "    </tr>\n",
       "    <tr>\n",
       "      <th id=\"T_8d586_level0_row5\" class=\"row_heading level0 row5\" >5</th>\n",
       "      <td id=\"T_8d586_row5_col0\" class=\"data row5 col0\" >0.8000</td>\n",
       "      <td id=\"T_8d586_row5_col1\" class=\"data row5 col1\" >0.9563</td>\n",
       "      <td id=\"T_8d586_row5_col2\" class=\"data row5 col2\" >0.8000</td>\n",
       "      <td id=\"T_8d586_row5_col3\" class=\"data row5 col3\" >0.7965</td>\n",
       "      <td id=\"T_8d586_row5_col4\" class=\"data row5 col4\" >0.7897</td>\n",
       "      <td id=\"T_8d586_row5_col5\" class=\"data row5 col5\" >0.7051</td>\n",
       "      <td id=\"T_8d586_row5_col6\" class=\"data row5 col6\" >0.7093</td>\n",
       "    </tr>\n",
       "    <tr>\n",
       "      <th id=\"T_8d586_level0_row6\" class=\"row_heading level0 row6\" >6</th>\n",
       "      <td id=\"T_8d586_row6_col0\" class=\"data row6 col0\" >0.7975</td>\n",
       "      <td id=\"T_8d586_row6_col1\" class=\"data row6 col1\" >0.9543</td>\n",
       "      <td id=\"T_8d586_row6_col2\" class=\"data row6 col2\" >0.7975</td>\n",
       "      <td id=\"T_8d586_row6_col3\" class=\"data row6 col3\" >0.8091</td>\n",
       "      <td id=\"T_8d586_row6_col4\" class=\"data row6 col4\" >0.7777</td>\n",
       "      <td id=\"T_8d586_row6_col5\" class=\"data row6 col5\" >0.6943</td>\n",
       "      <td id=\"T_8d586_row6_col6\" class=\"data row6 col6\" >0.7028</td>\n",
       "    </tr>\n",
       "    <tr>\n",
       "      <th id=\"T_8d586_level0_row7\" class=\"row_heading level0 row7\" >7</th>\n",
       "      <td id=\"T_8d586_row7_col0\" class=\"data row7 col0\" >0.7875</td>\n",
       "      <td id=\"T_8d586_row7_col1\" class=\"data row7 col1\" >0.9450</td>\n",
       "      <td id=\"T_8d586_row7_col2\" class=\"data row7 col2\" >0.7875</td>\n",
       "      <td id=\"T_8d586_row7_col3\" class=\"data row7 col3\" >0.7790</td>\n",
       "      <td id=\"T_8d586_row7_col4\" class=\"data row7 col4\" >0.7704</td>\n",
       "      <td id=\"T_8d586_row7_col5\" class=\"data row7 col5\" >0.6843</td>\n",
       "      <td id=\"T_8d586_row7_col6\" class=\"data row7 col6\" >0.6890</td>\n",
       "    </tr>\n",
       "    <tr>\n",
       "      <th id=\"T_8d586_level0_row8\" class=\"row_heading level0 row8\" >8</th>\n",
       "      <td id=\"T_8d586_row8_col0\" class=\"data row8 col0\" >0.7575</td>\n",
       "      <td id=\"T_8d586_row8_col1\" class=\"data row8 col1\" >0.9359</td>\n",
       "      <td id=\"T_8d586_row8_col2\" class=\"data row8 col2\" >0.7575</td>\n",
       "      <td id=\"T_8d586_row8_col3\" class=\"data row8 col3\" >0.7376</td>\n",
       "      <td id=\"T_8d586_row8_col4\" class=\"data row8 col4\" >0.7398</td>\n",
       "      <td id=\"T_8d586_row8_col5\" class=\"data row8 col5\" >0.6387</td>\n",
       "      <td id=\"T_8d586_row8_col6\" class=\"data row8 col6\" >0.6438</td>\n",
       "    </tr>\n",
       "    <tr>\n",
       "      <th id=\"T_8d586_level0_row9\" class=\"row_heading level0 row9\" >9</th>\n",
       "      <td id=\"T_8d586_row9_col0\" class=\"data row9 col0\" >0.8050</td>\n",
       "      <td id=\"T_8d586_row9_col1\" class=\"data row9 col1\" >0.9469</td>\n",
       "      <td id=\"T_8d586_row9_col2\" class=\"data row9 col2\" >0.8050</td>\n",
       "      <td id=\"T_8d586_row9_col3\" class=\"data row9 col3\" >0.7979</td>\n",
       "      <td id=\"T_8d586_row9_col4\" class=\"data row9 col4\" >0.7913</td>\n",
       "      <td id=\"T_8d586_row9_col5\" class=\"data row9 col5\" >0.7103</td>\n",
       "      <td id=\"T_8d586_row9_col6\" class=\"data row9 col6\" >0.7145</td>\n",
       "    </tr>\n",
       "    <tr>\n",
       "      <th id=\"T_8d586_level0_row10\" class=\"row_heading level0 row10\" >Mean</th>\n",
       "      <td id=\"T_8d586_row10_col0\" class=\"data row10 col0\" >0.7897</td>\n",
       "      <td id=\"T_8d586_row10_col1\" class=\"data row10 col1\" >0.9452</td>\n",
       "      <td id=\"T_8d586_row10_col2\" class=\"data row10 col2\" >0.7897</td>\n",
       "      <td id=\"T_8d586_row10_col3\" class=\"data row10 col3\" >0.7788</td>\n",
       "      <td id=\"T_8d586_row10_col4\" class=\"data row10 col4\" >0.7736</td>\n",
       "      <td id=\"T_8d586_row10_col5\" class=\"data row10 col5\" >0.6867</td>\n",
       "      <td id=\"T_8d586_row10_col6\" class=\"data row10 col6\" >0.6922</td>\n",
       "    </tr>\n",
       "    <tr>\n",
       "      <th id=\"T_8d586_level0_row11\" class=\"row_heading level0 row11\" >Std</th>\n",
       "      <td id=\"T_8d586_row11_col0\" class=\"data row11 col0\" >0.0127</td>\n",
       "      <td id=\"T_8d586_row11_col1\" class=\"data row11 col1\" >0.0073</td>\n",
       "      <td id=\"T_8d586_row11_col2\" class=\"data row11 col2\" >0.0127</td>\n",
       "      <td id=\"T_8d586_row11_col3\" class=\"data row11 col3\" >0.0196</td>\n",
       "      <td id=\"T_8d586_row11_col4\" class=\"data row11 col4\" >0.0145</td>\n",
       "      <td id=\"T_8d586_row11_col5\" class=\"data row11 col5\" >0.0195</td>\n",
       "      <td id=\"T_8d586_row11_col6\" class=\"data row11 col6\" >0.0192</td>\n",
       "    </tr>\n",
       "  </tbody>\n",
       "</table>\n"
      ],
      "text/plain": [
       "<pandas.io.formats.style.Styler at 0x7f9682e78940>"
      ]
     },
     "metadata": {},
     "output_type": "display_data"
    },
    {
     "data": {
      "application/vnd.jupyter.widget-view+json": {
       "model_id": "98465cd7c5a344c3944b6c8b8914b57f",
       "version_major": 2,
       "version_minor": 0
      },
      "text/plain": [
       "Processing:   0%|          | 0/4 [00:00<?, ?it/s]"
      ]
     },
     "metadata": {},
     "output_type": "display_data"
    },
    {
     "data": {
      "text/html": [],
      "text/plain": [
       "<IPython.core.display.HTML object>"
      ]
     },
     "metadata": {},
     "output_type": "display_data"
    },
    {
     "data": {
      "text/html": [
       "<style type=\"text/css\">\n",
       "#T_e4f3e_row10_col0, #T_e4f3e_row10_col1, #T_e4f3e_row10_col2, #T_e4f3e_row10_col3, #T_e4f3e_row10_col4, #T_e4f3e_row10_col5, #T_e4f3e_row10_col6 {\n",
       "  background: yellow;\n",
       "}\n",
       "</style>\n",
       "<table id=\"T_e4f3e\">\n",
       "  <thead>\n",
       "    <tr>\n",
       "      <th class=\"blank level0\" >&nbsp;</th>\n",
       "      <th id=\"T_e4f3e_level0_col0\" class=\"col_heading level0 col0\" >Accuracy</th>\n",
       "      <th id=\"T_e4f3e_level0_col1\" class=\"col_heading level0 col1\" >AUC</th>\n",
       "      <th id=\"T_e4f3e_level0_col2\" class=\"col_heading level0 col2\" >Recall</th>\n",
       "      <th id=\"T_e4f3e_level0_col3\" class=\"col_heading level0 col3\" >Prec.</th>\n",
       "      <th id=\"T_e4f3e_level0_col4\" class=\"col_heading level0 col4\" >F1</th>\n",
       "      <th id=\"T_e4f3e_level0_col5\" class=\"col_heading level0 col5\" >Kappa</th>\n",
       "      <th id=\"T_e4f3e_level0_col6\" class=\"col_heading level0 col6\" >MCC</th>\n",
       "    </tr>\n",
       "    <tr>\n",
       "      <th class=\"index_name level0\" >Fold</th>\n",
       "      <th class=\"blank col0\" >&nbsp;</th>\n",
       "      <th class=\"blank col1\" >&nbsp;</th>\n",
       "      <th class=\"blank col2\" >&nbsp;</th>\n",
       "      <th class=\"blank col3\" >&nbsp;</th>\n",
       "      <th class=\"blank col4\" >&nbsp;</th>\n",
       "      <th class=\"blank col5\" >&nbsp;</th>\n",
       "      <th class=\"blank col6\" >&nbsp;</th>\n",
       "    </tr>\n",
       "  </thead>\n",
       "  <tbody>\n",
       "    <tr>\n",
       "      <th id=\"T_e4f3e_level0_row0\" class=\"row_heading level0 row0\" >0</th>\n",
       "      <td id=\"T_e4f3e_row0_col0\" class=\"data row0 col0\" >0.7631</td>\n",
       "      <td id=\"T_e4f3e_row0_col1\" class=\"data row0 col1\" >0.9264</td>\n",
       "      <td id=\"T_e4f3e_row0_col2\" class=\"data row0 col2\" >0.7631</td>\n",
       "      <td id=\"T_e4f3e_row0_col3\" class=\"data row0 col3\" >0.7413</td>\n",
       "      <td id=\"T_e4f3e_row0_col4\" class=\"data row0 col4\" >0.7471</td>\n",
       "      <td id=\"T_e4f3e_row0_col5\" class=\"data row0 col5\" >0.6475</td>\n",
       "      <td id=\"T_e4f3e_row0_col6\" class=\"data row0 col6\" >0.6522</td>\n",
       "    </tr>\n",
       "    <tr>\n",
       "      <th id=\"T_e4f3e_level0_row1\" class=\"row_heading level0 row1\" >1</th>\n",
       "      <td id=\"T_e4f3e_row1_col0\" class=\"data row1 col0\" >0.7581</td>\n",
       "      <td id=\"T_e4f3e_row1_col1\" class=\"data row1 col1\" >0.9324</td>\n",
       "      <td id=\"T_e4f3e_row1_col2\" class=\"data row1 col2\" >0.7581</td>\n",
       "      <td id=\"T_e4f3e_row1_col3\" class=\"data row1 col3\" >0.7425</td>\n",
       "      <td id=\"T_e4f3e_row1_col4\" class=\"data row1 col4\" >0.7436</td>\n",
       "      <td id=\"T_e4f3e_row1_col5\" class=\"data row1 col5\" >0.6397</td>\n",
       "      <td id=\"T_e4f3e_row1_col6\" class=\"data row1 col6\" >0.6446</td>\n",
       "    </tr>\n",
       "    <tr>\n",
       "      <th id=\"T_e4f3e_level0_row2\" class=\"row_heading level0 row2\" >2</th>\n",
       "      <td id=\"T_e4f3e_row2_col0\" class=\"data row2 col0\" >0.7855</td>\n",
       "      <td id=\"T_e4f3e_row2_col1\" class=\"data row2 col1\" >0.9503</td>\n",
       "      <td id=\"T_e4f3e_row2_col2\" class=\"data row2 col2\" >0.7855</td>\n",
       "      <td id=\"T_e4f3e_row2_col3\" class=\"data row2 col3\" >0.7745</td>\n",
       "      <td id=\"T_e4f3e_row2_col4\" class=\"data row2 col4\" >0.7700</td>\n",
       "      <td id=\"T_e4f3e_row2_col5\" class=\"data row2 col5\" >0.6789</td>\n",
       "      <td id=\"T_e4f3e_row2_col6\" class=\"data row2 col6\" >0.6859</td>\n",
       "    </tr>\n",
       "    <tr>\n",
       "      <th id=\"T_e4f3e_level0_row3\" class=\"row_heading level0 row3\" >3</th>\n",
       "      <td id=\"T_e4f3e_row3_col0\" class=\"data row3 col0\" >0.7980</td>\n",
       "      <td id=\"T_e4f3e_row3_col1\" class=\"data row3 col1\" >0.9487</td>\n",
       "      <td id=\"T_e4f3e_row3_col2\" class=\"data row3 col2\" >0.7980</td>\n",
       "      <td id=\"T_e4f3e_row3_col3\" class=\"data row3 col3\" >0.7924</td>\n",
       "      <td id=\"T_e4f3e_row3_col4\" class=\"data row3 col4\" >0.7828</td>\n",
       "      <td id=\"T_e4f3e_row3_col5\" class=\"data row3 col5\" >0.6959</td>\n",
       "      <td id=\"T_e4f3e_row3_col6\" class=\"data row3 col6\" >0.7046</td>\n",
       "    </tr>\n",
       "    <tr>\n",
       "      <th id=\"T_e4f3e_level0_row4\" class=\"row_heading level0 row4\" >4</th>\n",
       "      <td id=\"T_e4f3e_row4_col0\" class=\"data row4 col0\" >0.7925</td>\n",
       "      <td id=\"T_e4f3e_row4_col1\" class=\"data row4 col1\" >0.9446</td>\n",
       "      <td id=\"T_e4f3e_row4_col2\" class=\"data row4 col2\" >0.7925</td>\n",
       "      <td id=\"T_e4f3e_row4_col3\" class=\"data row4 col3\" >0.7832</td>\n",
       "      <td id=\"T_e4f3e_row4_col4\" class=\"data row4 col4\" >0.7818</td>\n",
       "      <td id=\"T_e4f3e_row4_col5\" class=\"data row4 col5\" >0.6929</td>\n",
       "      <td id=\"T_e4f3e_row4_col6\" class=\"data row4 col6\" >0.6968</td>\n",
       "    </tr>\n",
       "    <tr>\n",
       "      <th id=\"T_e4f3e_level0_row5\" class=\"row_heading level0 row5\" >5</th>\n",
       "      <td id=\"T_e4f3e_row5_col0\" class=\"data row5 col0\" >0.8000</td>\n",
       "      <td id=\"T_e4f3e_row5_col1\" class=\"data row5 col1\" >0.9551</td>\n",
       "      <td id=\"T_e4f3e_row5_col2\" class=\"data row5 col2\" >0.8000</td>\n",
       "      <td id=\"T_e4f3e_row5_col3\" class=\"data row5 col3\" >0.7916</td>\n",
       "      <td id=\"T_e4f3e_row5_col4\" class=\"data row5 col4\" >0.7862</td>\n",
       "      <td id=\"T_e4f3e_row5_col5\" class=\"data row5 col5\" >0.7006</td>\n",
       "      <td id=\"T_e4f3e_row5_col6\" class=\"data row5 col6\" >0.7076</td>\n",
       "    </tr>\n",
       "    <tr>\n",
       "      <th id=\"T_e4f3e_level0_row6\" class=\"row_heading level0 row6\" >6</th>\n",
       "      <td id=\"T_e4f3e_row6_col0\" class=\"data row6 col0\" >0.7900</td>\n",
       "      <td id=\"T_e4f3e_row6_col1\" class=\"data row6 col1\" >0.9521</td>\n",
       "      <td id=\"T_e4f3e_row6_col2\" class=\"data row6 col2\" >0.7900</td>\n",
       "      <td id=\"T_e4f3e_row6_col3\" class=\"data row6 col3\" >0.7910</td>\n",
       "      <td id=\"T_e4f3e_row6_col4\" class=\"data row6 col4\" >0.7769</td>\n",
       "      <td id=\"T_e4f3e_row6_col5\" class=\"data row6 col5\" >0.6835</td>\n",
       "      <td id=\"T_e4f3e_row6_col6\" class=\"data row6 col6\" >0.6923</td>\n",
       "    </tr>\n",
       "    <tr>\n",
       "      <th id=\"T_e4f3e_level0_row7\" class=\"row_heading level0 row7\" >7</th>\n",
       "      <td id=\"T_e4f3e_row7_col0\" class=\"data row7 col0\" >0.7875</td>\n",
       "      <td id=\"T_e4f3e_row7_col1\" class=\"data row7 col1\" >0.9431</td>\n",
       "      <td id=\"T_e4f3e_row7_col2\" class=\"data row7 col2\" >0.7875</td>\n",
       "      <td id=\"T_e4f3e_row7_col3\" class=\"data row7 col3\" >0.7740</td>\n",
       "      <td id=\"T_e4f3e_row7_col4\" class=\"data row7 col4\" >0.7745</td>\n",
       "      <td id=\"T_e4f3e_row7_col5\" class=\"data row7 col5\" >0.6842</td>\n",
       "      <td id=\"T_e4f3e_row7_col6\" class=\"data row7 col6\" >0.6888</td>\n",
       "    </tr>\n",
       "    <tr>\n",
       "      <th id=\"T_e4f3e_level0_row8\" class=\"row_heading level0 row8\" >8</th>\n",
       "      <td id=\"T_e4f3e_row8_col0\" class=\"data row8 col0\" >0.7600</td>\n",
       "      <td id=\"T_e4f3e_row8_col1\" class=\"data row8 col1\" >0.9311</td>\n",
       "      <td id=\"T_e4f3e_row8_col2\" class=\"data row8 col2\" >0.7600</td>\n",
       "      <td id=\"T_e4f3e_row8_col3\" class=\"data row8 col3\" >0.7461</td>\n",
       "      <td id=\"T_e4f3e_row8_col4\" class=\"data row8 col4\" >0.7463</td>\n",
       "      <td id=\"T_e4f3e_row8_col5\" class=\"data row8 col5\" >0.6437</td>\n",
       "      <td id=\"T_e4f3e_row8_col6\" class=\"data row8 col6\" >0.6484</td>\n",
       "    </tr>\n",
       "    <tr>\n",
       "      <th id=\"T_e4f3e_level0_row9\" class=\"row_heading level0 row9\" >9</th>\n",
       "      <td id=\"T_e4f3e_row9_col0\" class=\"data row9 col0\" >0.7850</td>\n",
       "      <td id=\"T_e4f3e_row9_col1\" class=\"data row9 col1\" >0.9442</td>\n",
       "      <td id=\"T_e4f3e_row9_col2\" class=\"data row9 col2\" >0.7850</td>\n",
       "      <td id=\"T_e4f3e_row9_col3\" class=\"data row9 col3\" >0.7707</td>\n",
       "      <td id=\"T_e4f3e_row9_col4\" class=\"data row9 col4\" >0.7742</td>\n",
       "      <td id=\"T_e4f3e_row9_col5\" class=\"data row9 col5\" >0.6839</td>\n",
       "      <td id=\"T_e4f3e_row9_col6\" class=\"data row9 col6\" >0.6860</td>\n",
       "    </tr>\n",
       "    <tr>\n",
       "      <th id=\"T_e4f3e_level0_row10\" class=\"row_heading level0 row10\" >Mean</th>\n",
       "      <td id=\"T_e4f3e_row10_col0\" class=\"data row10 col0\" >0.7820</td>\n",
       "      <td id=\"T_e4f3e_row10_col1\" class=\"data row10 col1\" >0.9428</td>\n",
       "      <td id=\"T_e4f3e_row10_col2\" class=\"data row10 col2\" >0.7820</td>\n",
       "      <td id=\"T_e4f3e_row10_col3\" class=\"data row10 col3\" >0.7707</td>\n",
       "      <td id=\"T_e4f3e_row10_col4\" class=\"data row10 col4\" >0.7683</td>\n",
       "      <td id=\"T_e4f3e_row10_col5\" class=\"data row10 col5\" >0.6751</td>\n",
       "      <td id=\"T_e4f3e_row10_col6\" class=\"data row10 col6\" >0.6807</td>\n",
       "    </tr>\n",
       "    <tr>\n",
       "      <th id=\"T_e4f3e_level0_row11\" class=\"row_heading level0 row11\" >Std</th>\n",
       "      <td id=\"T_e4f3e_row11_col0\" class=\"data row11 col0\" >0.0149</td>\n",
       "      <td id=\"T_e4f3e_row11_col1\" class=\"data row11 col1\" >0.0092</td>\n",
       "      <td id=\"T_e4f3e_row11_col2\" class=\"data row11 col2\" >0.0149</td>\n",
       "      <td id=\"T_e4f3e_row11_col3\" class=\"data row11 col3\" >0.0194</td>\n",
       "      <td id=\"T_e4f3e_row11_col4\" class=\"data row11 col4\" >0.0155</td>\n",
       "      <td id=\"T_e4f3e_row11_col5\" class=\"data row11 col5\" >0.0216</td>\n",
       "      <td id=\"T_e4f3e_row11_col6\" class=\"data row11 col6\" >0.0223</td>\n",
       "    </tr>\n",
       "  </tbody>\n",
       "</table>\n"
      ],
      "text/plain": [
       "<pandas.io.formats.style.Styler at 0x7f9686a32350>"
      ]
     },
     "metadata": {},
     "output_type": "display_data"
    },
    {
     "data": {
      "application/vnd.jupyter.widget-view+json": {
       "model_id": "a1411b6534f245418a32efec52857df5",
       "version_major": 2,
       "version_minor": 0
      },
      "text/plain": [
       "Processing:   0%|          | 0/7 [00:00<?, ?it/s]"
      ]
     },
     "metadata": {},
     "output_type": "display_data"
    },
    {
     "name": "stdout",
     "output_type": "stream",
     "text": [
      "Fitting 10 folds for each of 10 candidates, totalling 100 fits\n",
      "Original model was better than the tuned model, hence it will be returned. NOTE: The display metrics are for the tuned model (not the original one).\n",
      "2__________________________________________________________\n"
     ]
    },
    {
     "data": {
      "text/html": [
       "<style type=\"text/css\">\n",
       "#T_2dd19_row9_col1 {\n",
       "  background-color: lightgreen;\n",
       "}\n",
       "</style>\n",
       "<table id=\"T_2dd19\">\n",
       "  <thead>\n",
       "    <tr>\n",
       "      <th class=\"blank level0\" >&nbsp;</th>\n",
       "      <th id=\"T_2dd19_level0_col0\" class=\"col_heading level0 col0\" >Description</th>\n",
       "      <th id=\"T_2dd19_level0_col1\" class=\"col_heading level0 col1\" >Value</th>\n",
       "    </tr>\n",
       "  </thead>\n",
       "  <tbody>\n",
       "    <tr>\n",
       "      <th id=\"T_2dd19_level0_row0\" class=\"row_heading level0 row0\" >0</th>\n",
       "      <td id=\"T_2dd19_row0_col0\" class=\"data row0 col0\" >Session id</td>\n",
       "      <td id=\"T_2dd19_row0_col1\" class=\"data row0 col1\" >0</td>\n",
       "    </tr>\n",
       "    <tr>\n",
       "      <th id=\"T_2dd19_level0_row1\" class=\"row_heading level0 row1\" >1</th>\n",
       "      <td id=\"T_2dd19_row1_col0\" class=\"data row1 col0\" >Target</td>\n",
       "      <td id=\"T_2dd19_row1_col1\" class=\"data row1 col1\" >SleepStage</td>\n",
       "    </tr>\n",
       "    <tr>\n",
       "      <th id=\"T_2dd19_level0_row2\" class=\"row_heading level0 row2\" >2</th>\n",
       "      <td id=\"T_2dd19_row2_col0\" class=\"data row2 col0\" >Target type</td>\n",
       "      <td id=\"T_2dd19_row2_col1\" class=\"data row2 col1\" >Multiclass</td>\n",
       "    </tr>\n",
       "    <tr>\n",
       "      <th id=\"T_2dd19_level0_row3\" class=\"row_heading level0 row3\" >3</th>\n",
       "      <td id=\"T_2dd19_row3_col0\" class=\"data row3 col0\" >Target mapping</td>\n",
       "      <td id=\"T_2dd19_row3_col1\" class=\"data row3 col1\" >2.0: 0, 3.0: 1, 4.0: 2, 5.0: 3, 6.0: 4</td>\n",
       "    </tr>\n",
       "    <tr>\n",
       "      <th id=\"T_2dd19_level0_row4\" class=\"row_heading level0 row4\" >4</th>\n",
       "      <td id=\"T_2dd19_row4_col0\" class=\"data row4 col0\" >Original data shape</td>\n",
       "      <td id=\"T_2dd19_row4_col1\" class=\"data row4 col1\" >(5721, 252)</td>\n",
       "    </tr>\n",
       "    <tr>\n",
       "      <th id=\"T_2dd19_level0_row5\" class=\"row_heading level0 row5\" >5</th>\n",
       "      <td id=\"T_2dd19_row5_col0\" class=\"data row5 col0\" >Transformed data shape</td>\n",
       "      <td id=\"T_2dd19_row5_col1\" class=\"data row5 col1\" >(5721, 252)</td>\n",
       "    </tr>\n",
       "    <tr>\n",
       "      <th id=\"T_2dd19_level0_row6\" class=\"row_heading level0 row6\" >6</th>\n",
       "      <td id=\"T_2dd19_row6_col0\" class=\"data row6 col0\" >Transformed train set shape</td>\n",
       "      <td id=\"T_2dd19_row6_col1\" class=\"data row6 col1\" >(4004, 252)</td>\n",
       "    </tr>\n",
       "    <tr>\n",
       "      <th id=\"T_2dd19_level0_row7\" class=\"row_heading level0 row7\" >7</th>\n",
       "      <td id=\"T_2dd19_row7_col0\" class=\"data row7 col0\" >Transformed test set shape</td>\n",
       "      <td id=\"T_2dd19_row7_col1\" class=\"data row7 col1\" >(1717, 252)</td>\n",
       "    </tr>\n",
       "    <tr>\n",
       "      <th id=\"T_2dd19_level0_row8\" class=\"row_heading level0 row8\" >8</th>\n",
       "      <td id=\"T_2dd19_row8_col0\" class=\"data row8 col0\" >Numeric features</td>\n",
       "      <td id=\"T_2dd19_row8_col1\" class=\"data row8 col1\" >251</td>\n",
       "    </tr>\n",
       "    <tr>\n",
       "      <th id=\"T_2dd19_level0_row9\" class=\"row_heading level0 row9\" >9</th>\n",
       "      <td id=\"T_2dd19_row9_col0\" class=\"data row9 col0\" >Preprocess</td>\n",
       "      <td id=\"T_2dd19_row9_col1\" class=\"data row9 col1\" >True</td>\n",
       "    </tr>\n",
       "    <tr>\n",
       "      <th id=\"T_2dd19_level0_row10\" class=\"row_heading level0 row10\" >10</th>\n",
       "      <td id=\"T_2dd19_row10_col0\" class=\"data row10 col0\" >Imputation type</td>\n",
       "      <td id=\"T_2dd19_row10_col1\" class=\"data row10 col1\" >simple</td>\n",
       "    </tr>\n",
       "    <tr>\n",
       "      <th id=\"T_2dd19_level0_row11\" class=\"row_heading level0 row11\" >11</th>\n",
       "      <td id=\"T_2dd19_row11_col0\" class=\"data row11 col0\" >Numeric imputation</td>\n",
       "      <td id=\"T_2dd19_row11_col1\" class=\"data row11 col1\" >mean</td>\n",
       "    </tr>\n",
       "    <tr>\n",
       "      <th id=\"T_2dd19_level0_row12\" class=\"row_heading level0 row12\" >12</th>\n",
       "      <td id=\"T_2dd19_row12_col0\" class=\"data row12 col0\" >Categorical imputation</td>\n",
       "      <td id=\"T_2dd19_row12_col1\" class=\"data row12 col1\" >mode</td>\n",
       "    </tr>\n",
       "    <tr>\n",
       "      <th id=\"T_2dd19_level0_row13\" class=\"row_heading level0 row13\" >13</th>\n",
       "      <td id=\"T_2dd19_row13_col0\" class=\"data row13 col0\" >Fold Generator</td>\n",
       "      <td id=\"T_2dd19_row13_col1\" class=\"data row13 col1\" >StratifiedKFold</td>\n",
       "    </tr>\n",
       "    <tr>\n",
       "      <th id=\"T_2dd19_level0_row14\" class=\"row_heading level0 row14\" >14</th>\n",
       "      <td id=\"T_2dd19_row14_col0\" class=\"data row14 col0\" >Fold Number</td>\n",
       "      <td id=\"T_2dd19_row14_col1\" class=\"data row14 col1\" >10</td>\n",
       "    </tr>\n",
       "    <tr>\n",
       "      <th id=\"T_2dd19_level0_row15\" class=\"row_heading level0 row15\" >15</th>\n",
       "      <td id=\"T_2dd19_row15_col0\" class=\"data row15 col0\" >CPU Jobs</td>\n",
       "      <td id=\"T_2dd19_row15_col1\" class=\"data row15 col1\" >-1</td>\n",
       "    </tr>\n",
       "    <tr>\n",
       "      <th id=\"T_2dd19_level0_row16\" class=\"row_heading level0 row16\" >16</th>\n",
       "      <td id=\"T_2dd19_row16_col0\" class=\"data row16 col0\" >Use GPU</td>\n",
       "      <td id=\"T_2dd19_row16_col1\" class=\"data row16 col1\" >False</td>\n",
       "    </tr>\n",
       "    <tr>\n",
       "      <th id=\"T_2dd19_level0_row17\" class=\"row_heading level0 row17\" >17</th>\n",
       "      <td id=\"T_2dd19_row17_col0\" class=\"data row17 col0\" >Log Experiment</td>\n",
       "      <td id=\"T_2dd19_row17_col1\" class=\"data row17 col1\" >False</td>\n",
       "    </tr>\n",
       "    <tr>\n",
       "      <th id=\"T_2dd19_level0_row18\" class=\"row_heading level0 row18\" >18</th>\n",
       "      <td id=\"T_2dd19_row18_col0\" class=\"data row18 col0\" >Experiment Name</td>\n",
       "      <td id=\"T_2dd19_row18_col1\" class=\"data row18 col1\" >clf-default-name</td>\n",
       "    </tr>\n",
       "    <tr>\n",
       "      <th id=\"T_2dd19_level0_row19\" class=\"row_heading level0 row19\" >19</th>\n",
       "      <td id=\"T_2dd19_row19_col0\" class=\"data row19 col0\" >USI</td>\n",
       "      <td id=\"T_2dd19_row19_col1\" class=\"data row19 col1\" >58ce</td>\n",
       "    </tr>\n",
       "  </tbody>\n",
       "</table>\n"
      ],
      "text/plain": [
       "<pandas.io.formats.style.Styler at 0x7f968ae06d10>"
      ]
     },
     "metadata": {},
     "output_type": "display_data"
    },
    {
     "data": {
      "text/html": [],
      "text/plain": [
       "<IPython.core.display.HTML object>"
      ]
     },
     "metadata": {},
     "output_type": "display_data"
    },
    {
     "data": {
      "text/html": [
       "<style type=\"text/css\">\n",
       "#T_bf3ff_row10_col0, #T_bf3ff_row10_col1, #T_bf3ff_row10_col2, #T_bf3ff_row10_col3, #T_bf3ff_row10_col4, #T_bf3ff_row10_col5, #T_bf3ff_row10_col6 {\n",
       "  background: yellow;\n",
       "}\n",
       "</style>\n",
       "<table id=\"T_bf3ff\">\n",
       "  <thead>\n",
       "    <tr>\n",
       "      <th class=\"blank level0\" >&nbsp;</th>\n",
       "      <th id=\"T_bf3ff_level0_col0\" class=\"col_heading level0 col0\" >Accuracy</th>\n",
       "      <th id=\"T_bf3ff_level0_col1\" class=\"col_heading level0 col1\" >AUC</th>\n",
       "      <th id=\"T_bf3ff_level0_col2\" class=\"col_heading level0 col2\" >Recall</th>\n",
       "      <th id=\"T_bf3ff_level0_col3\" class=\"col_heading level0 col3\" >Prec.</th>\n",
       "      <th id=\"T_bf3ff_level0_col4\" class=\"col_heading level0 col4\" >F1</th>\n",
       "      <th id=\"T_bf3ff_level0_col5\" class=\"col_heading level0 col5\" >Kappa</th>\n",
       "      <th id=\"T_bf3ff_level0_col6\" class=\"col_heading level0 col6\" >MCC</th>\n",
       "    </tr>\n",
       "    <tr>\n",
       "      <th class=\"index_name level0\" >Fold</th>\n",
       "      <th class=\"blank col0\" >&nbsp;</th>\n",
       "      <th class=\"blank col1\" >&nbsp;</th>\n",
       "      <th class=\"blank col2\" >&nbsp;</th>\n",
       "      <th class=\"blank col3\" >&nbsp;</th>\n",
       "      <th class=\"blank col4\" >&nbsp;</th>\n",
       "      <th class=\"blank col5\" >&nbsp;</th>\n",
       "      <th class=\"blank col6\" >&nbsp;</th>\n",
       "    </tr>\n",
       "  </thead>\n",
       "  <tbody>\n",
       "    <tr>\n",
       "      <th id=\"T_bf3ff_level0_row0\" class=\"row_heading level0 row0\" >0</th>\n",
       "      <td id=\"T_bf3ff_row0_col0\" class=\"data row0 col0\" >0.7955</td>\n",
       "      <td id=\"T_bf3ff_row0_col1\" class=\"data row0 col1\" >0.9493</td>\n",
       "      <td id=\"T_bf3ff_row0_col2\" class=\"data row0 col2\" >0.7955</td>\n",
       "      <td id=\"T_bf3ff_row0_col3\" class=\"data row0 col3\" >0.7836</td>\n",
       "      <td id=\"T_bf3ff_row0_col4\" class=\"data row0 col4\" >0.7827</td>\n",
       "      <td id=\"T_bf3ff_row0_col5\" class=\"data row0 col5\" >0.6985</td>\n",
       "      <td id=\"T_bf3ff_row0_col6\" class=\"data row0 col6\" >0.7014</td>\n",
       "    </tr>\n",
       "    <tr>\n",
       "      <th id=\"T_bf3ff_level0_row1\" class=\"row_heading level0 row1\" >1</th>\n",
       "      <td id=\"T_bf3ff_row1_col0\" class=\"data row1 col0\" >0.8005</td>\n",
       "      <td id=\"T_bf3ff_row1_col1\" class=\"data row1 col1\" >0.9549</td>\n",
       "      <td id=\"T_bf3ff_row1_col2\" class=\"data row1 col2\" >0.8005</td>\n",
       "      <td id=\"T_bf3ff_row1_col3\" class=\"data row1 col3\" >0.7972</td>\n",
       "      <td id=\"T_bf3ff_row1_col4\" class=\"data row1 col4\" >0.7984</td>\n",
       "      <td id=\"T_bf3ff_row1_col5\" class=\"data row1 col5\" >0.7133</td>\n",
       "      <td id=\"T_bf3ff_row1_col6\" class=\"data row1 col6\" >0.7134</td>\n",
       "    </tr>\n",
       "    <tr>\n",
       "      <th id=\"T_bf3ff_level0_row2\" class=\"row_heading level0 row2\" >2</th>\n",
       "      <td id=\"T_bf3ff_row2_col0\" class=\"data row2 col0\" >0.7880</td>\n",
       "      <td id=\"T_bf3ff_row2_col1\" class=\"data row2 col1\" >0.9458</td>\n",
       "      <td id=\"T_bf3ff_row2_col2\" class=\"data row2 col2\" >0.7880</td>\n",
       "      <td id=\"T_bf3ff_row2_col3\" class=\"data row2 col3\" >0.7826</td>\n",
       "      <td id=\"T_bf3ff_row2_col4\" class=\"data row2 col4\" >0.7766</td>\n",
       "      <td id=\"T_bf3ff_row2_col5\" class=\"data row2 col5\" >0.6863</td>\n",
       "      <td id=\"T_bf3ff_row2_col6\" class=\"data row2 col6\" >0.6910</td>\n",
       "    </tr>\n",
       "    <tr>\n",
       "      <th id=\"T_bf3ff_level0_row3\" class=\"row_heading level0 row3\" >3</th>\n",
       "      <td id=\"T_bf3ff_row3_col0\" class=\"data row3 col0\" >0.8279</td>\n",
       "      <td id=\"T_bf3ff_row3_col1\" class=\"data row3 col1\" >0.9577</td>\n",
       "      <td id=\"T_bf3ff_row3_col2\" class=\"data row3 col2\" >0.8279</td>\n",
       "      <td id=\"T_bf3ff_row3_col3\" class=\"data row3 col3\" >0.8120</td>\n",
       "      <td id=\"T_bf3ff_row3_col4\" class=\"data row3 col4\" >0.8173</td>\n",
       "      <td id=\"T_bf3ff_row3_col5\" class=\"data row3 col5\" >0.7500</td>\n",
       "      <td id=\"T_bf3ff_row3_col6\" class=\"data row3 col6\" >0.7518</td>\n",
       "    </tr>\n",
       "    <tr>\n",
       "      <th id=\"T_bf3ff_level0_row4\" class=\"row_heading level0 row4\" >4</th>\n",
       "      <td id=\"T_bf3ff_row4_col0\" class=\"data row4 col0\" >0.8150</td>\n",
       "      <td id=\"T_bf3ff_row4_col1\" class=\"data row4 col1\" >0.9600</td>\n",
       "      <td id=\"T_bf3ff_row4_col2\" class=\"data row4 col2\" >0.8150</td>\n",
       "      <td id=\"T_bf3ff_row4_col3\" class=\"data row4 col3\" >0.8052</td>\n",
       "      <td id=\"T_bf3ff_row4_col4\" class=\"data row4 col4\" >0.8083</td>\n",
       "      <td id=\"T_bf3ff_row4_col5\" class=\"data row4 col5\" >0.7322</td>\n",
       "      <td id=\"T_bf3ff_row4_col6\" class=\"data row4 col6\" >0.7327</td>\n",
       "    </tr>\n",
       "    <tr>\n",
       "      <th id=\"T_bf3ff_level0_row5\" class=\"row_heading level0 row5\" >5</th>\n",
       "      <td id=\"T_bf3ff_row5_col0\" class=\"data row5 col0\" >0.8225</td>\n",
       "      <td id=\"T_bf3ff_row5_col1\" class=\"data row5 col1\" >0.9652</td>\n",
       "      <td id=\"T_bf3ff_row5_col2\" class=\"data row5 col2\" >0.8225</td>\n",
       "      <td id=\"T_bf3ff_row5_col3\" class=\"data row5 col3\" >0.8219</td>\n",
       "      <td id=\"T_bf3ff_row5_col4\" class=\"data row5 col4\" >0.8210</td>\n",
       "      <td id=\"T_bf3ff_row5_col5\" class=\"data row5 col5\" >0.7434</td>\n",
       "      <td id=\"T_bf3ff_row5_col6\" class=\"data row5 col6\" >0.7439</td>\n",
       "    </tr>\n",
       "    <tr>\n",
       "      <th id=\"T_bf3ff_level0_row6\" class=\"row_heading level0 row6\" >6</th>\n",
       "      <td id=\"T_bf3ff_row6_col0\" class=\"data row6 col0\" >0.8150</td>\n",
       "      <td id=\"T_bf3ff_row6_col1\" class=\"data row6 col1\" >0.9609</td>\n",
       "      <td id=\"T_bf3ff_row6_col2\" class=\"data row6 col2\" >0.8150</td>\n",
       "      <td id=\"T_bf3ff_row6_col3\" class=\"data row6 col3\" >0.8083</td>\n",
       "      <td id=\"T_bf3ff_row6_col4\" class=\"data row6 col4\" >0.8106</td>\n",
       "      <td id=\"T_bf3ff_row6_col5\" class=\"data row6 col5\" >0.7318</td>\n",
       "      <td id=\"T_bf3ff_row6_col6\" class=\"data row6 col6\" >0.7324</td>\n",
       "    </tr>\n",
       "    <tr>\n",
       "      <th id=\"T_bf3ff_level0_row7\" class=\"row_heading level0 row7\" >7</th>\n",
       "      <td id=\"T_bf3ff_row7_col0\" class=\"data row7 col0\" >0.8200</td>\n",
       "      <td id=\"T_bf3ff_row7_col1\" class=\"data row7 col1\" >0.9615</td>\n",
       "      <td id=\"T_bf3ff_row7_col2\" class=\"data row7 col2\" >0.8200</td>\n",
       "      <td id=\"T_bf3ff_row7_col3\" class=\"data row7 col3\" >0.8055</td>\n",
       "      <td id=\"T_bf3ff_row7_col4\" class=\"data row7 col4\" >0.8077</td>\n",
       "      <td id=\"T_bf3ff_row7_col5\" class=\"data row7 col5\" >0.7361</td>\n",
       "      <td id=\"T_bf3ff_row7_col6\" class=\"data row7 col6\" >0.7384</td>\n",
       "    </tr>\n",
       "    <tr>\n",
       "      <th id=\"T_bf3ff_level0_row8\" class=\"row_heading level0 row8\" >8</th>\n",
       "      <td id=\"T_bf3ff_row8_col0\" class=\"data row8 col0\" >0.8225</td>\n",
       "      <td id=\"T_bf3ff_row8_col1\" class=\"data row8 col1\" >0.9611</td>\n",
       "      <td id=\"T_bf3ff_row8_col2\" class=\"data row8 col2\" >0.8225</td>\n",
       "      <td id=\"T_bf3ff_row8_col3\" class=\"data row8 col3\" >0.8227</td>\n",
       "      <td id=\"T_bf3ff_row8_col4\" class=\"data row8 col4\" >0.8215</td>\n",
       "      <td id=\"T_bf3ff_row8_col5\" class=\"data row8 col5\" >0.7443</td>\n",
       "      <td id=\"T_bf3ff_row8_col6\" class=\"data row8 col6\" >0.7448</td>\n",
       "    </tr>\n",
       "    <tr>\n",
       "      <th id=\"T_bf3ff_level0_row9\" class=\"row_heading level0 row9\" >9</th>\n",
       "      <td id=\"T_bf3ff_row9_col0\" class=\"data row9 col0\" >0.8200</td>\n",
       "      <td id=\"T_bf3ff_row9_col1\" class=\"data row9 col1\" >0.9607</td>\n",
       "      <td id=\"T_bf3ff_row9_col2\" class=\"data row9 col2\" >0.8200</td>\n",
       "      <td id=\"T_bf3ff_row9_col3\" class=\"data row9 col3\" >0.8096</td>\n",
       "      <td id=\"T_bf3ff_row9_col4\" class=\"data row9 col4\" >0.8109</td>\n",
       "      <td id=\"T_bf3ff_row9_col5\" class=\"data row9 col5\" >0.7384</td>\n",
       "      <td id=\"T_bf3ff_row9_col6\" class=\"data row9 col6\" >0.7395</td>\n",
       "    </tr>\n",
       "    <tr>\n",
       "      <th id=\"T_bf3ff_level0_row10\" class=\"row_heading level0 row10\" >Mean</th>\n",
       "      <td id=\"T_bf3ff_row10_col0\" class=\"data row10 col0\" >0.8127</td>\n",
       "      <td id=\"T_bf3ff_row10_col1\" class=\"data row10 col1\" >0.9577</td>\n",
       "      <td id=\"T_bf3ff_row10_col2\" class=\"data row10 col2\" >0.8127</td>\n",
       "      <td id=\"T_bf3ff_row10_col3\" class=\"data row10 col3\" >0.8049</td>\n",
       "      <td id=\"T_bf3ff_row10_col4\" class=\"data row10 col4\" >0.8055</td>\n",
       "      <td id=\"T_bf3ff_row10_col5\" class=\"data row10 col5\" >0.7274</td>\n",
       "      <td id=\"T_bf3ff_row10_col6\" class=\"data row10 col6\" >0.7289</td>\n",
       "    </tr>\n",
       "    <tr>\n",
       "      <th id=\"T_bf3ff_level0_row11\" class=\"row_heading level0 row11\" >Std</th>\n",
       "      <td id=\"T_bf3ff_row11_col0\" class=\"data row11 col0\" >0.0126</td>\n",
       "      <td id=\"T_bf3ff_row11_col1\" class=\"data row11 col1\" >0.0057</td>\n",
       "      <td id=\"T_bf3ff_row11_col2\" class=\"data row11 col2\" >0.0126</td>\n",
       "      <td id=\"T_bf3ff_row11_col3\" class=\"data row11 col3\" >0.0130</td>\n",
       "      <td id=\"T_bf3ff_row11_col4\" class=\"data row11 col4\" >0.0145</td>\n",
       "      <td id=\"T_bf3ff_row11_col5\" class=\"data row11 col5\" >0.0200</td>\n",
       "      <td id=\"T_bf3ff_row11_col6\" class=\"data row11 col6\" >0.0191</td>\n",
       "    </tr>\n",
       "  </tbody>\n",
       "</table>\n"
      ],
      "text/plain": [
       "<pandas.io.formats.style.Styler at 0x7f968b8b99f0>"
      ]
     },
     "metadata": {},
     "output_type": "display_data"
    },
    {
     "data": {
      "application/vnd.jupyter.widget-view+json": {
       "model_id": "358ccdd7a3cb4957a166aa37b659c995",
       "version_major": 2,
       "version_minor": 0
      },
      "text/plain": [
       "Processing:   0%|          | 0/4 [00:00<?, ?it/s]"
      ]
     },
     "metadata": {},
     "output_type": "display_data"
    },
    {
     "data": {
      "text/html": [],
      "text/plain": [
       "<IPython.core.display.HTML object>"
      ]
     },
     "metadata": {},
     "output_type": "display_data"
    },
    {
     "data": {
      "text/html": [
       "<style type=\"text/css\">\n",
       "#T_51e74_row10_col0, #T_51e74_row10_col1, #T_51e74_row10_col2, #T_51e74_row10_col3, #T_51e74_row10_col4, #T_51e74_row10_col5, #T_51e74_row10_col6 {\n",
       "  background: yellow;\n",
       "}\n",
       "</style>\n",
       "<table id=\"T_51e74\">\n",
       "  <thead>\n",
       "    <tr>\n",
       "      <th class=\"blank level0\" >&nbsp;</th>\n",
       "      <th id=\"T_51e74_level0_col0\" class=\"col_heading level0 col0\" >Accuracy</th>\n",
       "      <th id=\"T_51e74_level0_col1\" class=\"col_heading level0 col1\" >AUC</th>\n",
       "      <th id=\"T_51e74_level0_col2\" class=\"col_heading level0 col2\" >Recall</th>\n",
       "      <th id=\"T_51e74_level0_col3\" class=\"col_heading level0 col3\" >Prec.</th>\n",
       "      <th id=\"T_51e74_level0_col4\" class=\"col_heading level0 col4\" >F1</th>\n",
       "      <th id=\"T_51e74_level0_col5\" class=\"col_heading level0 col5\" >Kappa</th>\n",
       "      <th id=\"T_51e74_level0_col6\" class=\"col_heading level0 col6\" >MCC</th>\n",
       "    </tr>\n",
       "    <tr>\n",
       "      <th class=\"index_name level0\" >Fold</th>\n",
       "      <th class=\"blank col0\" >&nbsp;</th>\n",
       "      <th class=\"blank col1\" >&nbsp;</th>\n",
       "      <th class=\"blank col2\" >&nbsp;</th>\n",
       "      <th class=\"blank col3\" >&nbsp;</th>\n",
       "      <th class=\"blank col4\" >&nbsp;</th>\n",
       "      <th class=\"blank col5\" >&nbsp;</th>\n",
       "      <th class=\"blank col6\" >&nbsp;</th>\n",
       "    </tr>\n",
       "  </thead>\n",
       "  <tbody>\n",
       "    <tr>\n",
       "      <th id=\"T_51e74_level0_row0\" class=\"row_heading level0 row0\" >0</th>\n",
       "      <td id=\"T_51e74_row0_col0\" class=\"data row0 col0\" >0.7506</td>\n",
       "      <td id=\"T_51e74_row0_col1\" class=\"data row0 col1\" >0.9405</td>\n",
       "      <td id=\"T_51e74_row0_col2\" class=\"data row0 col2\" >0.7506</td>\n",
       "      <td id=\"T_51e74_row0_col3\" class=\"data row0 col3\" >0.7425</td>\n",
       "      <td id=\"T_51e74_row0_col4\" class=\"data row0 col4\" >0.7450</td>\n",
       "      <td id=\"T_51e74_row0_col5\" class=\"data row0 col5\" >0.6388</td>\n",
       "      <td id=\"T_51e74_row0_col6\" class=\"data row0 col6\" >0.6396</td>\n",
       "    </tr>\n",
       "    <tr>\n",
       "      <th id=\"T_51e74_level0_row1\" class=\"row_heading level0 row1\" >1</th>\n",
       "      <td id=\"T_51e74_row1_col0\" class=\"data row1 col0\" >0.8080</td>\n",
       "      <td id=\"T_51e74_row1_col1\" class=\"data row1 col1\" >0.9479</td>\n",
       "      <td id=\"T_51e74_row1_col2\" class=\"data row1 col2\" >0.8080</td>\n",
       "      <td id=\"T_51e74_row1_col3\" class=\"data row1 col3\" >0.8037</td>\n",
       "      <td id=\"T_51e74_row1_col4\" class=\"data row1 col4\" >0.8052</td>\n",
       "      <td id=\"T_51e74_row1_col5\" class=\"data row1 col5\" >0.7233</td>\n",
       "      <td id=\"T_51e74_row1_col6\" class=\"data row1 col6\" >0.7236</td>\n",
       "    </tr>\n",
       "    <tr>\n",
       "      <th id=\"T_51e74_level0_row2\" class=\"row_heading level0 row2\" >2</th>\n",
       "      <td id=\"T_51e74_row2_col0\" class=\"data row2 col0\" >0.7980</td>\n",
       "      <td id=\"T_51e74_row2_col1\" class=\"data row2 col1\" >0.9460</td>\n",
       "      <td id=\"T_51e74_row2_col2\" class=\"data row2 col2\" >0.7980</td>\n",
       "      <td id=\"T_51e74_row2_col3\" class=\"data row2 col3\" >0.8002</td>\n",
       "      <td id=\"T_51e74_row2_col4\" class=\"data row2 col4\" >0.7945</td>\n",
       "      <td id=\"T_51e74_row2_col5\" class=\"data row2 col5\" >0.7063</td>\n",
       "      <td id=\"T_51e74_row2_col6\" class=\"data row2 col6\" >0.7080</td>\n",
       "    </tr>\n",
       "    <tr>\n",
       "      <th id=\"T_51e74_level0_row3\" class=\"row_heading level0 row3\" >3</th>\n",
       "      <td id=\"T_51e74_row3_col0\" class=\"data row3 col0\" >0.8180</td>\n",
       "      <td id=\"T_51e74_row3_col1\" class=\"data row3 col1\" >0.9571</td>\n",
       "      <td id=\"T_51e74_row3_col2\" class=\"data row3 col2\" >0.8180</td>\n",
       "      <td id=\"T_51e74_row3_col3\" class=\"data row3 col3\" >0.8153</td>\n",
       "      <td id=\"T_51e74_row3_col4\" class=\"data row3 col4\" >0.8153</td>\n",
       "      <td id=\"T_51e74_row3_col5\" class=\"data row3 col5\" >0.7359</td>\n",
       "      <td id=\"T_51e74_row3_col6\" class=\"data row3 col6\" >0.7368</td>\n",
       "    </tr>\n",
       "    <tr>\n",
       "      <th id=\"T_51e74_level0_row4\" class=\"row_heading level0 row4\" >4</th>\n",
       "      <td id=\"T_51e74_row4_col0\" class=\"data row4 col0\" >0.8225</td>\n",
       "      <td id=\"T_51e74_row4_col1\" class=\"data row4 col1\" >0.9594</td>\n",
       "      <td id=\"T_51e74_row4_col2\" class=\"data row4 col2\" >0.8225</td>\n",
       "      <td id=\"T_51e74_row4_col3\" class=\"data row4 col3\" >0.8099</td>\n",
       "      <td id=\"T_51e74_row4_col4\" class=\"data row4 col4\" >0.8147</td>\n",
       "      <td id=\"T_51e74_row4_col5\" class=\"data row4 col5\" >0.7419</td>\n",
       "      <td id=\"T_51e74_row4_col6\" class=\"data row4 col6\" >0.7427</td>\n",
       "    </tr>\n",
       "    <tr>\n",
       "      <th id=\"T_51e74_level0_row5\" class=\"row_heading level0 row5\" >5</th>\n",
       "      <td id=\"T_51e74_row5_col0\" class=\"data row5 col0\" >0.8125</td>\n",
       "      <td id=\"T_51e74_row5_col1\" class=\"data row5 col1\" >0.9571</td>\n",
       "      <td id=\"T_51e74_row5_col2\" class=\"data row5 col2\" >0.8125</td>\n",
       "      <td id=\"T_51e74_row5_col3\" class=\"data row5 col3\" >0.8148</td>\n",
       "      <td id=\"T_51e74_row5_col4\" class=\"data row5 col4\" >0.8125</td>\n",
       "      <td id=\"T_51e74_row5_col5\" class=\"data row5 col5\" >0.7289</td>\n",
       "      <td id=\"T_51e74_row5_col6\" class=\"data row5 col6\" >0.7296</td>\n",
       "    </tr>\n",
       "    <tr>\n",
       "      <th id=\"T_51e74_level0_row6\" class=\"row_heading level0 row6\" >6</th>\n",
       "      <td id=\"T_51e74_row6_col0\" class=\"data row6 col0\" >0.8175</td>\n",
       "      <td id=\"T_51e74_row6_col1\" class=\"data row6 col1\" >0.9603</td>\n",
       "      <td id=\"T_51e74_row6_col2\" class=\"data row6 col2\" >0.8175</td>\n",
       "      <td id=\"T_51e74_row6_col3\" class=\"data row6 col3\" >0.8149</td>\n",
       "      <td id=\"T_51e74_row6_col4\" class=\"data row6 col4\" >0.8159</td>\n",
       "      <td id=\"T_51e74_row6_col5\" class=\"data row6 col5\" >0.7368</td>\n",
       "      <td id=\"T_51e74_row6_col6\" class=\"data row6 col6\" >0.7370</td>\n",
       "    </tr>\n",
       "    <tr>\n",
       "      <th id=\"T_51e74_level0_row7\" class=\"row_heading level0 row7\" >7</th>\n",
       "      <td id=\"T_51e74_row7_col0\" class=\"data row7 col0\" >0.8475</td>\n",
       "      <td id=\"T_51e74_row7_col1\" class=\"data row7 col1\" >0.9629</td>\n",
       "      <td id=\"T_51e74_row7_col2\" class=\"data row7 col2\" >0.8475</td>\n",
       "      <td id=\"T_51e74_row7_col3\" class=\"data row7 col3\" >0.8446</td>\n",
       "      <td id=\"T_51e74_row7_col4\" class=\"data row7 col4\" >0.8411</td>\n",
       "      <td id=\"T_51e74_row7_col5\" class=\"data row7 col5\" >0.7763</td>\n",
       "      <td id=\"T_51e74_row7_col6\" class=\"data row7 col6\" >0.7784</td>\n",
       "    </tr>\n",
       "    <tr>\n",
       "      <th id=\"T_51e74_level0_row8\" class=\"row_heading level0 row8\" >8</th>\n",
       "      <td id=\"T_51e74_row8_col0\" class=\"data row8 col0\" >0.8125</td>\n",
       "      <td id=\"T_51e74_row8_col1\" class=\"data row8 col1\" >0.9589</td>\n",
       "      <td id=\"T_51e74_row8_col2\" class=\"data row8 col2\" >0.8125</td>\n",
       "      <td id=\"T_51e74_row8_col3\" class=\"data row8 col3\" >0.8209</td>\n",
       "      <td id=\"T_51e74_row8_col4\" class=\"data row8 col4\" >0.8159</td>\n",
       "      <td id=\"T_51e74_row8_col5\" class=\"data row8 col5\" >0.7327</td>\n",
       "      <td id=\"T_51e74_row8_col6\" class=\"data row8 col6\" >0.7330</td>\n",
       "    </tr>\n",
       "    <tr>\n",
       "      <th id=\"T_51e74_level0_row9\" class=\"row_heading level0 row9\" >9</th>\n",
       "      <td id=\"T_51e74_row9_col0\" class=\"data row9 col0\" >0.8125</td>\n",
       "      <td id=\"T_51e74_row9_col1\" class=\"data row9 col1\" >0.9605</td>\n",
       "      <td id=\"T_51e74_row9_col2\" class=\"data row9 col2\" >0.8125</td>\n",
       "      <td id=\"T_51e74_row9_col3\" class=\"data row9 col3\" >0.8065</td>\n",
       "      <td id=\"T_51e74_row9_col4\" class=\"data row9 col4\" >0.8073</td>\n",
       "      <td id=\"T_51e74_row9_col5\" class=\"data row9 col5\" >0.7300</td>\n",
       "      <td id=\"T_51e74_row9_col6\" class=\"data row9 col6\" >0.7305</td>\n",
       "    </tr>\n",
       "    <tr>\n",
       "      <th id=\"T_51e74_level0_row10\" class=\"row_heading level0 row10\" >Mean</th>\n",
       "      <td id=\"T_51e74_row10_col0\" class=\"data row10 col0\" >0.8100</td>\n",
       "      <td id=\"T_51e74_row10_col1\" class=\"data row10 col1\" >0.9551</td>\n",
       "      <td id=\"T_51e74_row10_col2\" class=\"data row10 col2\" >0.8100</td>\n",
       "      <td id=\"T_51e74_row10_col3\" class=\"data row10 col3\" >0.8073</td>\n",
       "      <td id=\"T_51e74_row10_col4\" class=\"data row10 col4\" >0.8068</td>\n",
       "      <td id=\"T_51e74_row10_col5\" class=\"data row10 col5\" >0.7251</td>\n",
       "      <td id=\"T_51e74_row10_col6\" class=\"data row10 col6\" >0.7259</td>\n",
       "    </tr>\n",
       "    <tr>\n",
       "      <th id=\"T_51e74_level0_row11\" class=\"row_heading level0 row11\" >Std</th>\n",
       "      <td id=\"T_51e74_row11_col0\" class=\"data row11 col0\" >0.0232</td>\n",
       "      <td id=\"T_51e74_row11_col1\" class=\"data row11 col1\" >0.0071</td>\n",
       "      <td id=\"T_51e74_row11_col2\" class=\"data row11 col2\" >0.0232</td>\n",
       "      <td id=\"T_51e74_row11_col3\" class=\"data row11 col3\" >0.0246</td>\n",
       "      <td id=\"T_51e74_row11_col4\" class=\"data row11 col4\" >0.0234</td>\n",
       "      <td id=\"T_51e74_row11_col5\" class=\"data row11 col5\" >0.0332</td>\n",
       "      <td id=\"T_51e74_row11_col6\" class=\"data row11 col6\" >0.0334</td>\n",
       "    </tr>\n",
       "  </tbody>\n",
       "</table>\n"
      ],
      "text/plain": [
       "<pandas.io.formats.style.Styler at 0x7f9683bcb370>"
      ]
     },
     "metadata": {},
     "output_type": "display_data"
    },
    {
     "data": {
      "application/vnd.jupyter.widget-view+json": {
       "model_id": "7954b3107f2545c7b63f981b4b17244f",
       "version_major": 2,
       "version_minor": 0
      },
      "text/plain": [
       "Processing:   0%|          | 0/7 [00:00<?, ?it/s]"
      ]
     },
     "metadata": {},
     "output_type": "display_data"
    },
    {
     "name": "stdout",
     "output_type": "stream",
     "text": [
      "Fitting 10 folds for each of 10 candidates, totalling 100 fits\n",
      "Original model was better than the tuned model, hence it will be returned. NOTE: The display metrics are for the tuned model (not the original one).\n"
     ]
    }
   ],
   "source": [
    "i = 0\n",
    "for data in (pzz, pxy):\n",
    "    i += 1\n",
    "    print(f'{i}__________________________________________________________')\n",
    "    psd_dict = {f'psd_{i}': data[:,i] for i in range(data.shape[1])}\n",
    "    data = pd.DataFrame(psd_dict | {'SleepStage': labels}) \n",
    "    s = setup(data, target = 'SleepStage', session_id = 0)\n",
    "\n",
    "    lgbm = create_model('lightgbm')\n",
    "\n",
    "    # define tuning grid\n",
    "    lgbm_grid = {'max_depth' : [2, 4, 6, 8, 10, 12]}\n",
    "    tuned_lgbm = tune_model(lgbm)\n",
    "    pull()"
   ]
  },
  {
   "cell_type": "code",
   "execution_count": 50,
   "metadata": {},
   "outputs": [
    {
     "data": {
      "text/html": [],
      "text/plain": [
       "<IPython.core.display.HTML object>"
      ]
     },
     "metadata": {},
     "output_type": "display_data"
    },
    {
     "data": {
      "image/png": "[encoded data removed]",
      "text/plain": [
       "<Figure size 800x550 with 1 Axes>"
      ]
     },
     "metadata": {},
     "output_type": "display_data"
    }
   ],
   "source": [
    "s.plot_model(tuned_lgbm, plot = 'confusion_matrix')"
   ]
  },
  {
   "cell_type": "markdown",
   "metadata": {},
   "source": [
    "# Model Eval"
   ]
  },
  {
   "cell_type": "markdown",
   "metadata": {},
   "source": []
  },
  {
   "cell_type": "markdown",
   "metadata": {},
   "source": [
    "# Visualization"
   ]
  },
  {
   "cell_type": "markdown",
   "metadata": {},
   "source": []
  }
 ],
 "metadata": {
  "kernelspec": {
   "display_name": "sleepclass",
   "language": "python",
   "name": "python3"
  },
  "language_info": {
   "codemirror_mode": {
    "name": "ipython",
    "version": 3
   },
   "file_extension": ".py",
   "mimetype": "text/x-python",
   "name": "python",
   "nbconvert_exporter": "python",
   "pygments_lexer": "ipython3",
   "version": "3.10.6"
  },
  "orig_nbformat": 4
 },
 "nbformat": 4,
 "nbformat_minor": 2
}
